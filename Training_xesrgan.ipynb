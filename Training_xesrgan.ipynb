{
  "nbformat": 4,
  "nbformat_minor": 0,
  "metadata": {
    "colab": {
      "name": "Training_xesrgan.ipynb",
      "provenance": [],
      "collapsed_sections": [
        "7hU7Bzv-qgmD",
        "SbGG9VYcwCJp",
        "8EQmyYqbzlhu"
      ]
    },
    "kernelspec": {
      "name": "python3",
      "display_name": "Python 3"
    },
    "language_info": {
      "name": "python"
    }
  },
  "cells": [
    {
      "cell_type": "markdown",
      "metadata": {
        "id": "7hU7Bzv-qgmD"
      },
      "source": [
        "## Imports"
      ]
    },
    {
      "cell_type": "code",
      "execution_count": null,
      "metadata": {
        "id": "W0LDRhrfot56"
      },
      "outputs": [],
      "source": [
        "import os\n",
        "import matplotlib.pyplot as plt\n",
        "import tensorflow as tf\n",
        "from model import resolve_single\n",
        "from data import DIV2K\n",
        "from utils import load_image\n",
        "from PIL import Image\n",
        "import numpy as np\n",
        "\n",
        "%matplotlib inline"
      ]
    },
    {
      "cell_type": "markdown",
      "metadata": {
        "id": "gnk6_7_5w8bc"
      },
      "source": [
        "### Downloading and Importing LPIPS"
      ]
    },
    {
      "cell_type": "code",
      "execution_count": null,
      "metadata": {
        "id": "5bLdwZGixAHb"
      },
      "outputs": [],
      "source": [
        "!pip install lpips\n",
        "import lpips\n",
        "import torch"
      ]
    },
    {
      "cell_type": "markdown",
      "metadata": {
        "id": "VsRSw29Rr36n"
      },
      "source": [
        "### Importing Simple XESRGAN Model"
      ]
    },
    {
      "cell_type": "code",
      "execution_count": null,
      "metadata": {
        "id": "4eI_DBQCJpwK"
      },
      "outputs": [],
      "source": [
        "from model.sxesrgan import generator as sxesrgen\n",
        "from model.sxesrgan import discriminator as sxesrdisc\n",
        "from sxesrgantrain import SXESrganTrainer \n",
        "from sxesrgantrain import SXESrganGeneratorTrainer "
      ]
    },
    {
      "cell_type": "markdown",
      "metadata": {
        "id": "SbGG9VYcwCJp"
      },
      "source": [
        "## Loading Datasets"
      ]
    },
    {
      "cell_type": "code",
      "execution_count": null,
      "metadata": {
        "id": "clJgcmxwwIp-"
      },
      "outputs": [],
      "source": [
        "div2k_train = DIV2K(scale=4, hr_size = 128, subset='train', downgrade='bicubic', images_dir='/content/gdrive/My Drive/super-resolution/.div2k/images', caches_dir='/content/gdrive/My Drive/super-resolution/.div2k/caches')\n",
        "div2k_valid = DIV2K(scale=4, hr_size = 128,  subset='valid', downgrade='bicubic', images_dir='/content/gdrive/My Drive/super-resolution/.div2k/images', caches_dir='/content/gdrive/My Drive/super-resolution/.div2k/caches')"
      ]
    },
    {
      "cell_type": "code",
      "execution_count": null,
      "metadata": {
        "id": "tReDs5PHxfc3"
      },
      "outputs": [],
      "source": [
        "train_ds = div2k_train.dataset(batch_size=8, random_transform=True)\n",
        "valid_ds = div2k_valid.dataset(batch_size=8, random_transform=True, repeat_count=1)"
      ]
    },
    {
      "cell_type": "markdown",
      "metadata": {
        "id": "8EQmyYqbzlhu"
      },
      "source": [
        "## Setting Weights Directory"
      ]
    },
    {
      "cell_type": "code",
      "execution_count": null,
      "metadata": {
        "id": "kczKW2ShzGJU"
      },
      "outputs": [],
      "source": [
        "weights_dir = 'weights/sxesrgan_lpips'\n",
        "weights_file = lambda filename: os.path.join(weights_dir, filename)\n",
        "os.makedirs(weights_dir, exist_ok=True)"
      ]
    },
    {
      "cell_type": "markdown",
      "metadata": {
        "id": "_Hgu6lYBLfQZ"
      },
      "source": [
        "## Training SXESRGAN"
      ]
    },
    {
      "cell_type": "markdown",
      "metadata": {
        "id": "_f-pOJU2LfQz"
      },
      "source": [
        "### Pre-Trainer "
      ]
    },
    {
      "cell_type": "code",
      "execution_count": null,
      "metadata": {
        "id": "3jzmbInLLfQz"
      },
      "outputs": [],
      "source": [
        "pre_trainer = SXESrganGeneratorTrainer(model=sxesrgen(), checkpoint_dir=f'./ckpt_sxesr/pre_generator')\n",
        "\n",
        "pre_trainer.train(train_ds,\n",
        "                  valid_ds,\n",
        "                  steps=2000, \n",
        "                  evaluate_every=50)"
      ]
    },
    {
      "cell_type": "code",
      "execution_count": null,
      "metadata": {
        "id": "P-PtN1YwLfQ0"
      },
      "outputs": [],
      "source": [
        "pre_trainer.model.save_weights(weights_file('pre_generator.h5'))"
      ]
    },
    {
      "cell_type": "markdown",
      "metadata": {
        "id": "KLG-GStrLfQ0"
      },
      "source": [
        "### GAN Trainer"
      ]
    },
    {
      "cell_type": "code",
      "execution_count": null,
      "metadata": {
        "id": "zw5W2T5KLfQ0"
      },
      "outputs": [],
      "source": [
        "gan_generator = sxesrgen()\n",
        "gan_discriminator = sxesrdisc(hr_size=128)\n",
        "gan_generator.load_weights(weights_file('gan_generator.h5'))"
      ]
    },
    {
      "cell_type": "code",
      "execution_count": null,
      "metadata": {
        "id": "uMYGNBe9LfQ0"
      },
      "outputs": [],
      "source": [
        "gan_trainer = SXESrganTrainer(generator=gan_generator, discriminator=gan_discriminator, checkpoint_dir = './ckpt/sxesrgan_lpips', disc_type = 'ragan', loss_type = 'lpips')\n",
        "gan_trainer.train(train_ds.take(200).repeat(None), evaluate_every=50, steps=4050) "
      ]
    },
    {
      "cell_type": "code",
      "execution_count": null,
      "metadata": {
        "id": "1FG1f1TFLfQ0"
      },
      "outputs": [],
      "source": [
        "gan_trainer.generator.save_weights(weights_file('gan_generator.h5'))\n",
        "gan_trainer.discriminator.save_weights(weights_file('gan_discriminator.h5'))"
      ]
    },
    {
      "cell_type": "markdown",
      "metadata": {
        "id": "EMBSN5lEG_zi"
      },
      "source": [
        "### Network Interpolation"
      ]
    },
    {
      "cell_type": "code",
      "execution_count": null,
      "metadata": {
        "id": "iEYiw8WKG_zj"
      },
      "outputs": [],
      "source": [
        "sxesrpre_generator = sxesrgen()\n",
        "sxesrgan_generator = sxesrgen()\n"
      ]
    },
    {
      "cell_type": "code",
      "execution_count": null,
      "metadata": {
        "id": "YtNml86RHavP"
      },
      "outputs": [],
      "source": [
        "weights_dir = 'weights/sxesrgan'\n",
        "weights_file = lambda filename: os.path.join(weights_dir, filename)\n",
        "sxesrpre_generator.load_weights(weights_file('pre_generator.h5'))"
      ]
    },
    {
      "cell_type": "code",
      "execution_count": null,
      "metadata": {
        "id": "yhnI3uTGHbhV"
      },
      "outputs": [],
      "source": [
        "weights_dir = 'weights/sxesrgan_lpips'\n",
        "weights_file = lambda filename: os.path.join(weights_dir, filename)\n",
        "sxesrgan_generator.load_weights(weights_file('gan_generator.h5'))\n"
      ]
    },
    {
      "cell_type": "code",
      "execution_count": null,
      "metadata": {
        "id": "JS07CNxlHfW9"
      },
      "outputs": [],
      "source": [
        "ALPHA = 0.5\n",
        "sxesrgan = sxesrgen()\n",
        "\n",
        "vars_psnr = [v.numpy() for v in sxesrpre_generator.trainable_variables]\n",
        "vars_esrgan = [v.numpy() for v in sxesrgan_generator.trainable_variables]\n",
        "\n",
        "for i, var in enumerate(sxesrgan.trainable_variables):\n",
        "  var.assign((1 - ALPHA) * vars_psnr[i] + ALPHA * vars_esrgan[i])\n",
        "\n",
        "sxesrgan.save_weights(weights_file('gan_interp.h5'))"
      ]
    },
    {
      "cell_type": "markdown",
      "metadata": {
        "id": "E_dAqPN-muhr"
      },
      "source": [
        "## Demo"
      ]
    },
    {
      "cell_type": "code",
      "source": [
        "pre_generator = generator()\n",
        "gan_generator = generator()\n",
        "\n",
        "pre_generator.load_weights(weights_file('pre_generator.h5'))\n",
        "gan_generator.load_weights(weights_file('gan_generator.h5'))"
      ],
      "metadata": {
        "id": "LckHLPIoNpL-"
      },
      "execution_count": null,
      "outputs": []
    },
    {
      "cell_type": "code",
      "source": [
        "from model import resolve_single\n",
        "from utils import load_image\n",
        "\n",
        "def resolve_and_plot(lr_image_path):\n",
        "    lr = load_image(lr_image_path)\n",
        "    \n",
        "    pre_sr = resolve_single(pre_generator, lr)\n",
        "    gan_sr = resolve_single(gan_generator, lr)\n",
        "    \n",
        "    plt.figure(figsize=(20, 20))\n",
        "    \n",
        "    images = [lr, pre_sr, gan_sr]\n",
        "    titles = ['LR', 'SR (PRE)', 'SR (GAN)']\n",
        "    positions = [1, 3, 4]\n",
        "    \n",
        "    for i, (img, title, pos) in enumerate(zip(images, titles, positions)):\n",
        "        plt.subplot(2, 2, pos)\n",
        "        plt.imshow(img)\n",
        "        plt.title(title)\n",
        "        plt.xticks([])\n",
        "        plt.yticks([])"
      ],
      "metadata": {
        "id": "Y8monmbTNqlj"
      },
      "execution_count": null,
      "outputs": []
    },
    {
      "cell_type": "code",
      "source": [
        "lr_image_path = 'demo/0869x4-crop.png'\n",
        "resolve_and_plot(lr_image_path)"
      ],
      "metadata": {
        "id": "2OvfkeQtNwZK"
      },
      "execution_count": null,
      "outputs": []
    }
  ]
}